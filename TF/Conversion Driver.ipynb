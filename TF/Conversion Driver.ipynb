{
 "cells": [
  {
   "cell_type": "markdown",
   "metadata": {},
   "source": [
    "<h2>Moonboard Problem Grade Calculator</h2>\n",
    "<p>Bouldering is a physically demanding sport, that relies on the categorization of climbing routes into various difficulty levels. However, the process of grading rock climbing routes is inherently subjective and can vary significantly based on factors such as the climber's experience, the specific climbing holds, and routes. This subjectivity poses challenges for route setters aiming to accurately convey the nature of the climb to the climbing community.</p>\n",
    "<p>The Moonboard is a standardzied training device which removes some variability of the factors invovled in the sport. The Moonboard can provide a standardized framework to evaluate the multifaceted aspects that contribute to a route's difficulty. Factors such as hold types, overhang angles, and route length can be quantified and integrated into a comprehensive equation.</p>\n",
    "<p></p>"
   ]
  },
  {
   "cell_type": "code",
   "execution_count": 39,
   "metadata": {},
   "outputs": [],
   "source": [
    "import tensorflow as tf\n",
    "from converter import *"
   ]
  },
  {
   "cell_type": "markdown",
   "metadata": {},
   "source": [
    "Step 1: Convert the grades of the problems from Fontainebleau scale to TF scale. Create the grade list to be used in the model."
   ]
  },
  {
   "cell_type": "code",
   "execution_count": 40,
   "metadata": {},
   "outputs": [],
   "source": [
    "raw_grades = open('../Raw Data/grades.txt', 'r')\n",
    "converted_grades = open('../TF Data/TF grades.txt', 'w')\n",
    "grade_list = []\n",
    "for problem in raw_grades:\n",
    "    problem = problem.strip()\n",
    "    grade = Grade(problem)\n",
    "    grade.grade_converter(grade, grade_list, converted_grades)\n",
    "converted_grades.close()\n",
    "grade_array = np.array(grade_list)"
   ]
  },
  {
   "cell_type": "markdown",
   "metadata": {},
   "source": [
    "Step 2: Create array with 3 layers for each hold position to be used as the nueral network training data:\n",
    "<li> Legal hold positions</li>\n",
    "<li> Start position(s)</li>\n",
    "<li> Finish position(s)</li>\n"
   ]
  },
  {
   "cell_type": "code",
   "execution_count": 41,
   "metadata": {},
   "outputs": [],
   "source": [
    "h = open('../Raw Data/holds.txt')\n",
    "sh = open('../Raw Data/start holds.txt')\n",
    "eh = open('../Raw Data/end holds.txt')\n",
    "out_file = open('../TF Data/Arrays.txt', 'w')\n",
    "problem_array = create_array(h,sh, eh)\n",
    "close_files(h, sh, eh, out_file)"
   ]
  },
  {
   "cell_type": "markdown",
   "metadata": {},
   "source": [
    "Step 3: Build the nueral network with the training set."
   ]
  },
  {
   "cell_type": "code",
   "execution_count": 42,
   "metadata": {},
   "outputs": [
    {
     "name": "stdout",
     "output_type": "stream",
     "text": [
      "Epoch 1/40\n",
      "27/27 [==============================] - 3s 60ms/step - loss: 2.7204 - accuracy: 0.1721\n",
      "Epoch 2/40\n",
      "27/27 [==============================] - 2s 59ms/step - loss: 2.5574 - accuracy: 0.2272\n",
      "Epoch 3/40\n",
      "27/27 [==============================] - 2s 64ms/step - loss: 2.3483 - accuracy: 0.2131\n",
      "Epoch 4/40\n",
      "27/27 [==============================] - 2s 59ms/step - loss: 2.1417 - accuracy: 0.2635\n",
      "Epoch 5/40\n",
      "27/27 [==============================] - 2s 59ms/step - loss: 1.9029 - accuracy: 0.4040\n",
      "Epoch 6/40\n",
      "27/27 [==============================] - 2s 61ms/step - loss: 1.6355 - accuracy: 0.5773\n",
      "Epoch 7/40\n",
      "27/27 [==============================] - 2s 61ms/step - loss: 1.3607 - accuracy: 0.7459\n",
      "Epoch 8/40\n",
      "27/27 [==============================] - 2s 62ms/step - loss: 1.1191 - accuracy: 0.8056\n",
      "Epoch 9/40\n",
      "27/27 [==============================] - 2s 60ms/step - loss: 0.8945 - accuracy: 0.8677\n",
      "Epoch 10/40\n",
      "27/27 [==============================] - 2s 57ms/step - loss: 0.7196 - accuracy: 0.9180\n",
      "Epoch 11/40\n",
      "27/27 [==============================] - 2s 59ms/step - loss: 0.5701 - accuracy: 0.9461\n",
      "Epoch 12/40\n",
      "27/27 [==============================] - 2s 58ms/step - loss: 0.4365 - accuracy: 0.9707\n",
      "Epoch 13/40\n",
      "27/27 [==============================] - 2s 57ms/step - loss: 0.3443 - accuracy: 0.9742\n",
      "Epoch 14/40\n",
      "27/27 [==============================] - 2s 59ms/step - loss: 0.2685 - accuracy: 0.9824\n",
      "Epoch 15/40\n",
      "27/27 [==============================] - 2s 60ms/step - loss: 0.2110 - accuracy: 0.9871\n",
      "Epoch 16/40\n",
      "27/27 [==============================] - 2s 65ms/step - loss: 0.1673 - accuracy: 0.9906\n",
      "Epoch 17/40\n",
      "27/27 [==============================] - 2s 64ms/step - loss: 0.1343 - accuracy: 0.9953\n",
      "Epoch 18/40\n",
      "27/27 [==============================] - 2s 60ms/step - loss: 0.1087 - accuracy: 0.9977\n",
      "Epoch 19/40\n",
      "27/27 [==============================] - 2s 57ms/step - loss: 0.0874 - accuracy: 0.9977\n",
      "Epoch 20/40\n",
      "27/27 [==============================] - 2s 57ms/step - loss: 0.0728 - accuracy: 0.9977\n",
      "Epoch 21/40\n",
      "27/27 [==============================] - 2s 56ms/step - loss: 0.0608 - accuracy: 1.0000\n",
      "Epoch 22/40\n",
      "27/27 [==============================] - 2s 58ms/step - loss: 0.0509 - accuracy: 1.0000\n",
      "Epoch 23/40\n",
      "27/27 [==============================] - 2s 60ms/step - loss: 0.0431 - accuracy: 1.0000\n",
      "Epoch 24/40\n",
      "27/27 [==============================] - 2s 61ms/step - loss: 0.0373 - accuracy: 1.0000\n",
      "Epoch 25/40\n",
      "27/27 [==============================] - 2s 59ms/step - loss: 0.0324 - accuracy: 1.0000\n",
      "Epoch 26/40\n",
      "27/27 [==============================] - 2s 65ms/step - loss: 0.0282 - accuracy: 1.0000\n",
      "Epoch 27/40\n",
      "27/27 [==============================] - 2s 59ms/step - loss: 0.0248 - accuracy: 1.0000\n",
      "Epoch 28/40\n",
      "27/27 [==============================] - 2s 60ms/step - loss: 0.0222 - accuracy: 1.0000\n",
      "Epoch 29/40\n",
      "27/27 [==============================] - 2s 62ms/step - loss: 0.0195 - accuracy: 1.0000\n",
      "Epoch 30/40\n",
      "27/27 [==============================] - 2s 62ms/step - loss: 0.0176 - accuracy: 1.0000\n",
      "Epoch 31/40\n",
      "27/27 [==============================] - 2s 61ms/step - loss: 0.0158 - accuracy: 1.0000\n",
      "Epoch 32/40\n",
      "27/27 [==============================] - 2s 60ms/step - loss: 0.0144 - accuracy: 1.0000\n",
      "Epoch 33/40\n",
      "27/27 [==============================] - 2s 59ms/step - loss: 0.0131 - accuracy: 1.0000\n",
      "Epoch 34/40\n",
      "27/27 [==============================] - 2s 64ms/step - loss: 0.0119 - accuracy: 1.0000\n",
      "Epoch 35/40\n",
      "27/27 [==============================] - 2s 59ms/step - loss: 0.0109 - accuracy: 1.0000\n",
      "Epoch 36/40\n",
      "27/27 [==============================] - 2s 59ms/step - loss: 0.0101 - accuracy: 1.0000\n",
      "Epoch 37/40\n",
      "27/27 [==============================] - 2s 59ms/step - loss: 0.0092 - accuracy: 1.0000\n",
      "Epoch 38/40\n",
      "27/27 [==============================] - 2s 59ms/step - loss: 0.0086 - accuracy: 1.0000\n",
      "Epoch 39/40\n",
      "27/27 [==============================] - 2s 59ms/step - loss: 0.0080 - accuracy: 1.0000\n",
      "Epoch 40/40\n",
      "27/27 [==============================] - 2s 60ms/step - loss: 0.0075 - accuracy: 1.0000\n"
     ]
    }
   ],
   "source": [
    "# Set random seed\n",
    "tf.random.set_seed(42)\n",
    "\n",
    "# Create the model\n",
    "model= tf.keras.Sequential([\n",
    "    tf.keras.layers.Flatten(input_shape=(problem_array.shape[1],problem_array.shape[2],problem_array.shape[3])),\n",
    "    tf.keras.layers.Dense(2048, activation=\"relu\"),\n",
    "    tf.keras.layers.Dense(1024, activation=\"relu\"),\n",
    "    tf.keras.layers.Dense(512, activation=\"relu\"),\n",
    "    tf.keras.layers.Dense(256, activation=\"relu\"),\n",
    "    tf.keras.layers.Dense(16, activation=\"softmax\")\n",
    "])\n",
    "\n",
    "# Compile the model\n",
    "optimizer = tf.keras.optimizers.Adam(learning_rate=0.00005)\n",
    "model.compile(optimizer=optimizer, loss=\"sparse_categorical_crossentropy\", metrics=[\"accuracy\"])\n",
    "\n",
    "# Fit the model\n",
    "model_fit = model.fit(problem_array, grade_array, epochs = 40)"
   ]
  },
  {
   "cell_type": "markdown",
   "metadata": {},
   "source": [
    "To test a problem, edit the file Test_Problem.txt in the TF folder.\n",
    "<li> Change the starting hold to \"S\"</li>\n",
    "<li> Change the finish hold to \"F\"</li>\n",
    "<li> Change any other legal holds to \"1\"</li>"
   ]
  },
  {
   "cell_type": "code",
   "execution_count": 46,
   "metadata": {},
   "outputs": [
    {
     "name": "stdout",
     "output_type": "stream",
     "text": [
      "1/1 [==============================] - 0s 22ms/step\n",
      "7C\n"
     ]
    }
   ],
   "source": [
    "test_doc = open('../TF Data/Test_Problem.txt')\n",
    "# Build the input array\n",
    "rows = [0] * 11\n",
    "matrix = [rows] * 18\n",
    "holds = np.array([rows] * 18)\n",
    "start = np.array([rows] * 18)\n",
    "end = np.array([rows] * 18)\n",
    "k = 0\n",
    "# Iterate through and adjust empty matricies for holds\n",
    "for row in test_doc.readlines():\n",
    "    row = row.replace(\" \", \"\")\n",
    "    j = 0\n",
    "    for hold in row:\n",
    "        if hold == '1':\n",
    "            holds[k][j] = 1\n",
    "            start[k][j] = 0\n",
    "            end[k][j] = 0\n",
    "        if hold == 'S':\n",
    "            holds[k][j] = 1\n",
    "            start[k][j] = 1\n",
    "            end[k][j] = 0\n",
    "        if hold == 'F':\n",
    "            holds[k][j] = 1\n",
    "            start[k][j] = 0\n",
    "            end[k][j] = 1\n",
    "        if hold == '\\n':\n",
    "            pass\n",
    "        j = j + 1\n",
    "    k = k + 1\n",
    "test_array = []\n",
    "test_array.append(np.stack((holds,start,end)))\n",
    "test_array = np.array(test_array)\n",
    "# Predict the grade\n",
    "y_probs = model.predict(test_array)\n",
    "d = tf.argmax(y_probs[0])\n",
    "r = Grade(d)\n",
    "l = r.score_to_font()\n",
    "print(l)"
   ]
  }
 ],
 "metadata": {
  "kernelspec": {
   "display_name": "Python 3",
   "language": "python",
   "name": "python3"
  },
  "language_info": {
   "codemirror_mode": {
    "name": "ipython",
    "version": 3
   },
   "file_extension": ".py",
   "mimetype": "text/x-python",
   "name": "python",
   "nbconvert_exporter": "python",
   "pygments_lexer": "ipython3",
   "version": "3.10.12"
  },
  "orig_nbformat": 4
 },
 "nbformat": 4,
 "nbformat_minor": 2
}
