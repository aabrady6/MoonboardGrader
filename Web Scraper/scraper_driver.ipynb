{
 "cells": [
  {
   "cell_type": "markdown",
   "metadata": {},
   "source": [
    "<h2> Moonboard Web Scraper </h2>   \n",
    "<p> Used to automate the scraping of raw data for the Moonboard Masters 2019 benchmark problems. </p>\n",
    "<p> The process of scraping the data from this website involves 2 steps:\n",
    "<li>1. Use the Selenium Package to automatically log in, and get the URLs of the benchmark problems.</li>\n",
    "<li>2. Use the html_session package to automatically access each problem page to get the benchmark data.</li>\n",
    "</p>\n",
    "<p> The output raw data will be exported into 4 txt files within the main directory.\n",
    "<br> User must edit the user_info.txt document within the Web Scraper directory to update to their credentials for the Moonboard site before being able to scrape the data.</br></p>\n"
   ]
  },
  {
   "cell_type": "code",
   "execution_count": null,
   "metadata": {},
   "outputs": [],
   "source": [
    "from scraper import *"
   ]
  },
  {
   "cell_type": "code",
   "execution_count": null,
   "metadata": {},
   "outputs": [],
   "source": [
    "# Load log-in information - Replace with your own user infomation within file\n",
    "with open('user_info.txt') as f:\n",
    "    lines = f.readlines()\n",
    "\n",
    "username = lines[0][lines[0].find('username = ')+len('username = '):]\n",
    "password = lines[1][lines[1].find('password = ')+len('password = '):]"
   ]
  },
  {
   "cell_type": "markdown",
   "metadata": {},
   "source": [
    "Step 1: Initialize the Firefox web browser to log into the Moonboard website using the provided credentials and scrape the URLs for the problems associated with the \"Moonboard Masters 2019\" hold layout."
   ]
  },
  {
   "cell_type": "code",
   "execution_count": null,
   "metadata": {},
   "outputs": [],
   "source": [
    "# Run Firefox browser instance and log in to Moonboard website\n",
    "browser = Browser('Drivers/geckodriver')\n",
    "browser.open_page('https://www.moonboard.com')\n",
    "time.sleep(2)\n",
    "browser.login(username, password)\n",
    "time.sleep(3)\n",
    "# Select the board to be the Moonboard Masters 2019 hold set up and get the URLs for the benchmark problems for that board\n",
    "browser.board_selection('Masters 2019')\n",
    "time.sleep(3)\n",
    "urls = []\n",
    "browser.get_problems(urls)\n",
    "browser.close_browser()"
   ]
  },
  {
   "cell_type": "markdown",
   "metadata": {},
   "source": [
    "Step 2: Scrape the induvidual problems to get the problem grades, legal holds, starting hold(s) and ending hold(s). "
   ]
  },
  {
   "cell_type": "code",
   "execution_count": null,
   "metadata": {},
   "outputs": [],
   "source": [
    "# Create an instnce of Problems and scrape\n",
    "problem = Problems(urls)\n",
    "problem.scrape_holds()"
   ]
  },
  {
   "cell_type": "markdown",
   "metadata": {},
   "source": [
    "The raw outputs from the scraped data can be found in Grader/Raw Data. "
   ]
  }
 ],
 "metadata": {
  "kernelspec": {
   "display_name": "Python 3",
   "language": "python",
   "name": "python3"
  },
  "language_info": {
   "codemirror_mode": {
    "name": "ipython",
    "version": 3
   },
   "file_extension": ".py",
   "mimetype": "text/x-python",
   "name": "python",
   "nbconvert_exporter": "python",
   "pygments_lexer": "ipython3",
   "version": "3.10.12"
  },
  "orig_nbformat": 4
 },
 "nbformat": 4,
 "nbformat_minor": 2
}
